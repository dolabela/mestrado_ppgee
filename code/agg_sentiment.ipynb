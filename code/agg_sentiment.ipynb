{
 "cells": [
  {
   "cell_type": "code",
   "execution_count": 1,
   "metadata": {},
   "outputs": [],
   "source": [
    "%load_ext autoreload\n",
    "%autoreload 2"
   ]
  },
  {
   "cell_type": "code",
   "execution_count": 2,
   "metadata": {},
   "outputs": [
    {
     "name": "stdout",
     "output_type": "stream",
     "text": [
      "/home/breno/Documents/master_projects\n"
     ]
    }
   ],
   "source": [
    "cd .."
   ]
  },
  {
   "cell_type": "code",
   "execution_count": 3,
   "metadata": {},
   "outputs": [],
   "source": [
    "# !pip3 install yfinance --user\n",
    "# !pip3 install pandas-datareader --user\n",
    "# !git clone  https://github.com/jperla/sentiment-data.git"
   ]
  },
  {
   "cell_type": "code",
   "execution_count": 3,
   "metadata": {},
   "outputs": [
    {
     "name": "stderr",
     "output_type": "stream",
     "text": [
      "[nltk_data] Downloading package punkt to /home/breno/nltk_data...\n",
      "[nltk_data]   Package punkt is already up-to-date!\n"
     ]
    }
   ],
   "source": [
    "import data_prep"
   ]
  },
  {
   "cell_type": "code",
   "execution_count": 4,
   "metadata": {},
   "outputs": [
    {
     "name": "stdout",
     "output_type": "stream",
     "text": [
      "[*********************100%***********************]  1 of 1 completed\n",
      "Concluded DJI\n"
     ]
    }
   ],
   "source": [
    "tickers_list = ['DJI']\n",
    "\n",
    "prices_list = data_prep.get_multiple_stock_prices_yf(tickers_list, key = 'T2MK2AQSBF5UAKF6') # , "
   ]
  },
  {
   "cell_type": "code",
   "execution_count": 8,
   "metadata": {},
   "outputs": [],
   "source": [
    "date_grid = prices_list['DJI'].index"
   ]
  },
  {
   "cell_type": "code",
   "execution_count": 9,
   "metadata": {},
   "outputs": [],
   "source": [
    "import pandas as pd \n",
    "\n",
    "negative = pd.read_csv('sentiment-data/finance/LoughranMcDonald_Negative.csv',header = None)\n",
    "positive = pd.read_csv('sentiment-data/finance/LoughranMcDonald_Positive.csv',header = None)\n",
    "\n",
    "stopwords = pd.read_csv('sentiment-data/finance/stopwords.csv',header = None)\n",
    "stopwords = list(stopwords[0].str.lower())\n",
    "\n",
    "negative = list(negative[0].str.lower())\n",
    "positive = list(positive[0].str.lower())\n",
    "\n",
    "news = data_prep.get_bloomberg_data_from_drive ()\n",
    "news = data_prep.preprocess_text(news)\n",
    "news = data_prep.obtain_polarities(news, negative, positive, stopwords)\n",
    "news = data_prep.get_fixed_date(news, date_grid)\n",
    "news = news.reset_index()"
   ]
  },
  {
   "cell_type": "code",
   "execution_count": 61,
   "metadata": {},
   "outputs": [],
   "source": [
    "news['polarity'] = 0.9*(news['polarity']-min(news['polarity']))/(max(news['polarity'])-min(news['polarity'])) + 0.1"
   ]
  },
  {
   "cell_type": "code",
   "execution_count": 47,
   "metadata": {},
   "outputs": [],
   "source": [
    "c = news.groupby('datetime').created_at.count()\n",
    "\n",
    "corona_ratio = news.groupby('datetime').created_at.mean()\n",
    "\n",
    "\n",
    "def calculate_hesitant (row):\n",
    "    return (1 - row['polarity'])**(1/c[row['datetime']])\n",
    "\n",
    "news['hesitant_polarity']  = news.apply(calculate_hesitant, axis = 1) "
   ]
  },
  {
   "cell_type": "code",
   "execution_count": 197,
   "metadata": {},
   "outputs": [],
   "source": [
    "# !pip3 install -U pyFTS\n",
    "\n",
    "x = prices_list['DJI']\n",
    "y = news.groupby('datetime').mean()\n",
    "\n",
    "prices_list['DJI'] = (pd.DataFrame(x).merge(y, left_index=True, right_index=True) ) #, right_on='datetime'))"
   ]
  }
 ],
 "metadata": {
  "kernelspec": {
   "display_name": ".venv",
   "language": "python",
   "name": ".venv"
  },
  "language_info": {
   "codemirror_mode": {
    "name": "ipython",
    "version": 3
   },
   "file_extension": ".py",
   "mimetype": "text/x-python",
   "name": "python",
   "nbconvert_exporter": "python",
   "pygments_lexer": "ipython3",
   "version": "3.8.10"
  }
 },
 "nbformat": 4,
 "nbformat_minor": 2
}
